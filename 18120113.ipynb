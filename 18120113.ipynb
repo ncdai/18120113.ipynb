{
 "cells": [
  {
   "cell_type": "code",
   "execution_count": 1,
   "id": "21729642-c732-41f3-a5aa-be55d67ed071",
   "metadata": {},
   "outputs": [],
   "source": [
    "#1. Tính tổng 2 vecto \n",
    "def tong_vt(x,y):\n",
    "    return [i+j for i, j in zip(x, y)]\n",
    "\n",
    "# tong_vt([1,2],[3,4])"
   ]
  },
  {
   "cell_type": "code",
   "execution_count": 107,
   "id": "058e9122-4ac4-48f9-8ab0-e7cde6a250e5",
   "metadata": {},
   "outputs": [],
   "source": [
    "# 2. Tích vô hướng 2 vecto\n",
    "def tich_vh(x,y):\n",
    "    kq = 0\n",
    "    for a, b in zip(x, y):\n",
    "        kq += a * b\n",
    "    return kq\n",
    "\n",
    "# tich_vh([1,2], [3,4])"
   ]
  },
  {
   "cell_type": "code",
   "execution_count": 17,
   "id": "daab7e54-1d99-49fe-bc81-ecaa42bb5fde",
   "metadata": {},
   "outputs": [],
   "source": [
    "# 3. Tích ma trận với vecto\n",
    "def nhan_mt_vt(A, v):\n",
    "    return [tich_vh(i, v) for i in A]"
   ]
  },
  {
   "cell_type": "code",
   "execution_count": 18,
   "id": "79666954-d4e9-4f73-a284-6cd9f192d491",
   "metadata": {},
   "outputs": [],
   "source": [
    "# 4. Tổng 2 ma trận\n",
    "def cong_mt(A, B):\n",
    "    return [[i + j for (i, j) in zip(m,n)] for (m,n) in zip(A,B)]"
   ]
  },
  {
   "cell_type": "code",
   "execution_count": 101,
   "id": "897adc82-a171-44f1-9b1c-8144f4b7dbda",
   "metadata": {},
   "outputs": [],
   "source": [
    "#5. Tích 2 ma trận \n",
    "def tich_mt(A,B):\n",
    "    kq = [[0 for i in range(len(A))] for j in range(len(B[0]))]\n",
    "    for i in range(len(A)):\n",
    "        for j in range(len(B[0])):\n",
    "            for k in range(len(B)):\n",
    "                kq[i][j] += A[i][k]*B[k][j]\n",
    "    return kq"
   ]
  },
  {
   "cell_type": "code",
   "execution_count": 20,
   "id": "d9ca2f9f-cfb2-4538-ba1a-9026fc976e27",
   "metadata": {},
   "outputs": [],
   "source": [
    "#6. Tìm ma trận chuyển vị \n",
    "def mt_chuyenvi(A):\n",
    "    return [[A[i][j] for i in range(len(A))] for j in range(len(A[0]))]"
   ]
  },
  {
   "cell_type": "code",
   "execution_count": 25,
   "id": "3d45d4a8-84ea-4c13-8661-7b6d2fc99d6b",
   "metadata": {},
   "outputs": [],
   "source": [
    "#7. Tìm lũy thừa ma trận\n",
    "def luythua_mt(A,n):\n",
    "    if (n <= 1): return A\n",
    "    return tich_mt(luythua_mt(A, n-1), A)\n",
    "\n",
    "# A=[[4,3], [2,0]]\n",
    "# luythua_mt(A, 5)"
   ]
  },
  {
   "cell_type": "code",
   "execution_count": 54,
   "id": "d78be284-317b-46a4-b615-c73bdfed35a2",
   "metadata": {},
   "outputs": [],
   "source": [
    "#8.1. Tìm định thức ma trận\n",
    "# Hàm xóa dòng và cột\n",
    "import copy\n",
    "def mt_del(A, i,j):\n",
    "    sub_A = copy.deepcopy(A)\n",
    "    sub_A = sub_A[:i] + sub_A[i+1:]# Bỏ dòng\n",
    "    # Bỏ cột\n",
    "    n_row_sub = len(sub_A)\n",
    "    for i in range(n_row_sub):\n",
    "        sub_A[i] = sub_A[i][:j] + sub_A[i][j+1:]\n",
    "    return sub_A \n",
    "\n",
    "# Định thức ma trận\n",
    "def mt_dinhthuc(A):\n",
    "    if len(A) == 1 and len(A[0]) == 1: # Trường hợp cơ bản, định thức của ma trận 1x1\n",
    "        return A[0][0]\n",
    "    total = 0\n",
    "    for j in range(len(A[0])):# Duyệt qua từng cột để loại bỏ\n",
    "        sub_A = mt_del(A, 0, j)\n",
    "        sign = (-1) ** (j % 2)# Tìm dấu\n",
    "        sub_det = mt_dinhthuc(sub_A)# Gọi đệ quy cho các ma trận con\n",
    "        total += sign * A[0][j] * sub_det # Cộng dồn định thức khi bỏ cột j\n",
    "    return total"
   ]
  },
  {
   "cell_type": "code",
   "execution_count": 59,
   "id": "990fb274-461d-49ca-b3d8-aa27feeeea56",
   "metadata": {},
   "outputs": [],
   "source": [
    "# bổ sung  thêm Nhân số với ma trận\n",
    "def NhanMT_So(c, A_list):\n",
    "    return [[c * a for a in a_row] for a_row in A_list]\n",
    "\n",
    "#8.2. Tìm ma trận nghịch đảo\n",
    "def inverse(A):\n",
    "    n_row = len(A)\n",
    "    n_col = len(A[0])\n",
    "\n",
    "    # Tính định thức cho ma trận\n",
    "    det_A = mt_dinhthuc(A)\n",
    "\n",
    "    # Trả về None khi ma trận không khả nghịch\n",
    "    if det_A == 0:\n",
    "        raise ValueError('Matrix irreversible')\n",
    "        return None\n",
    "\n",
    "    # Xử lý trường hợp ma trận cấp 1\n",
    "    if n_row == 1 and n_col == 1:\n",
    "        return 1/det_A\n",
    "\n",
    "    # Tạo ma trận kết quả\n",
    "    A_res = [[0 for _ in range(n_col)] for _ in range(n_row)]\n",
    "\n",
    "    # A_res = adj(A)/det_A\n",
    "    # B1: Chuyển vị ma trận gốc\n",
    "    A_trans = mt_chuyenvi(A)\n",
    "\n",
    "    # B2: Tính adj(A) đồng thời gán kết quả vào A_res\n",
    "    for i_row in range(n_row):\n",
    "        for i_col in range(n_col):\n",
    "            # Tạo ra các ma trận con 2x2\n",
    "            sub_A = mt_del(A_trans, i_row, i_col)\n",
    "\n",
    "            # Tìm dấu\n",
    "            sign = (-1) ** (i_row + i_col)\n",
    "\n",
    "            A_res[i_row][i_col] = sign * mt_dinhthuc(sub_A)\n",
    "\n",
    "    # B3: Chia định thức\n",
    "    A_res = NhanMT_So(1/det_A, A_res)\n",
    "    return A_res"
   ]
  },
  {
   "cell_type": "code",
   "execution_count": 56,
   "id": "88974138-3740-4508-b073-b8f6ed246522",
   "metadata": {},
   "outputs": [],
   "source": [
    "# 9. Các phép biến đổi sơ cấp trên dòng\n",
    "\n",
    "# Các hàm liên quan: \n",
    "def add_vector(v, w):\n",
    "    return [vi + wi for vi, wi in zip(v, w)]\n",
    "\n",
    "def mul_scalar_vector(alpha, v):\n",
    "    return [alpha*vi for vi in v]\n",
    "# Các phép biến đổi\n",
    "\n",
    "def row_switch(A, i, k):\n",
    "    \"di <-> dk\"\n",
    "    A[i], A[k] = A[k], A[i]\n",
    "\n",
    "def row_mul(A, i, alpha):\n",
    "    \"di = anpha*di\"\n",
    "    A[i] = mul_scalar_vector(alpha, A[i])\n",
    "\n",
    "def row_add(A, i, k, alpha):\n",
    "    \"di = di + anpha*dk\"\n",
    "    A[i] = add_vector(A[i], mul_scalar_vector(alpha, A[k]))"
   ]
  },
  {
   "cell_type": "code",
   "execution_count": 57,
   "id": "f0eda127-431a-454a-86ea-8cfbf784d381",
   "metadata": {},
   "outputs": [],
   "source": [
    "# 10. Tìm nghiệm của hệ phương trình tuyến tính \n",
    "# Hàm liên quan: \n",
    "import math\n",
    "\n",
    "def is_zero(x):\n",
    "    \"kiểm tra số thực x có là số thực 0 (rất gần 0)\"\n",
    "    return math.isclose(x, 0, abs_tol=1e-09)\n",
    "def is_zero_vector(v):\n",
    "    return all(is_zero(vi) for vi in v)\n",
    "\n",
    "import sympy\n",
    "from sympy import Matrix\n",
    "\n",
    "#10.1. Phép khử Gauss\n",
    "def Gauss_elimination(A, leading1=True):\n",
    "    R = A.copy()\n",
    "    m, n = len(R), len(R[0]) # kích thước ma trận\n",
    "    row = col = 0\n",
    "    while row < m:\n",
    "        # Bước 1\n",
    "        while col < n and all(is_zero(R[i][col]) for i in range(row, m)):\n",
    "            col += 1\n",
    "        if col == n: # đã có dạng bậc thang\n",
    "            break\n",
    "\n",
    "        # Bước 2 (chọn dòng đầu tiên có số hạng khác 0)\n",
    "        pivot_row = row + [not is_zero(R[i][col]) for i in range(row, m)].index(True)\n",
    "        row_switch(R, row, pivot_row)\n",
    "\n",
    "        # Bước 3\n",
    "        if leading1:\n",
    "            row_mul(R, row, 1/R[row][col])\n",
    "\n",
    "        # Bước 4\n",
    "        for i in range(row + 1, m):\n",
    "            multiplier = R[i][col]/R[row][col]\n",
    "            row_add(R, i, row, -multiplier)\n",
    "\n",
    "        # Bước 5\n",
    "        row += 1\n",
    "    return R\n",
    "\n",
    "#10.2 Phép thế ngược\n",
    "def back_substitution(R):\n",
    "    \"R là ma trận bậc thang của ma trận bổ sung của hệ phương trình Ax = b\"\n",
    "    m, n = len(R), len(R[0]) # kích thước ma trận R\n",
    "\n",
    "    # vector nghiệm (danh sách theo thứ tự ẩn)\n",
    "    sol = [None for _ in range(n - 1)]\n",
    "\n",
    "    # Tìm dòng dưới cùng khác không\n",
    "    row = m - 1\n",
    "    while row >= 0 and all(is_zero(R[row][j]) for j in range(n)):\n",
    "        row -= 1\n",
    "\n",
    "    if row >= 0 and [not is_zero(R[row][j]) for j in range(n)].index(True) == n - 1:\n",
    "        return None # vô nghiệm\n",
    "\n",
    "    last_pcol = n - 1\n",
    "    while row >= 0:\n",
    "        pcol = [not is_zero(R[row][j]) for j in range(n)].index(True)\n",
    "        for i in range(pcol, last_pcol): # các ẩn tự do\n",
    "            sol[i] = sympy.symbols(f\"x{i + 1}\")\n",
    "        sol[pcol] = (R[row][n - 1] - sum(R[row][j]*sol[j] for j in range(pcol + 1, n - 1)))/R[row][pcol]\n",
    "        last_pcol = pcol\n",
    "        row -= 1\n",
    "\n",
    "    # Bổ sung các ẩn tự do từ 0 đến last_pcol - 1\n",
    "    for i in range(0, last_pcol):\n",
    "        sol[i] = sympy.symbols(f\"x{i + 1}\")\n",
    "    return sol\n",
    "\n",
    "A = [[1, 3, -2,  0, 2,  0, 0],\n",
    "     [2, 6, -5, -2, 4, -3, 0],\n",
    "     [0, 0,  5, 10, 0, 15, 0],\n",
    "     [2, 6,  0,  8, 4, 18, 0]]\n",
    "# R=Gauss_elimination(A)\n",
    "# back_substitution(R)"
   ]
  },
  {
   "cell_type": "code",
   "execution_count": 165,
   "id": "62d64b20-0136-4f65-8dcc-14e75dbbe698",
   "metadata": {},
   "outputs": [
    {
     "data": {
      "text/plain": [
       "[[0, 0, 0], [0, 0, 0], [0, 0, 0], [0, 0, 0]]"
      ]
     },
     "execution_count": 165,
     "metadata": {},
     "output_type": "execute_result"
    }
   ],
   "source": [
    "#11. Tạo ma trận toàn số 0:\n",
    "def mt_khong(m,n):\n",
    "    return [[0 for i in range(n)] for j in range(m)]\n",
    "\n",
    "A = mt_khong(4, 3)\n",
    "A"
   ]
  },
  {
   "cell_type": "code",
   "execution_count": 164,
   "id": "4d0fc2db-6bd9-486b-89af-2980903212fb",
   "metadata": {},
   "outputs": [
    {
     "data": {
      "text/plain": [
       "[[1, 0, 0], [0, 1, 0], [0, 0, 1]]"
      ]
     },
     "execution_count": 164,
     "metadata": {},
     "output_type": "execute_result"
    }
   ],
   "source": [
    "#12. Ma trận đơn vị: \n",
    "def mt_donvi(n):\n",
    "    return [[1 if i == j else 0 for j in range(n)] for i in range(n)]\n",
    "\n",
    "A = mt_donvi(3)\n",
    "A"
   ]
  },
  {
   "cell_type": "code",
   "execution_count": 163,
   "id": "7296891c-8efc-4957-8ef7-e11850e5a610",
   "metadata": {},
   "outputs": [
    {
     "data": {
      "text/plain": [
       "[0, 0, 1, 4, 6, 6, 7, 9, 10, 10]"
      ]
     },
     "execution_count": 163,
     "metadata": {},
     "output_type": "execute_result"
    }
   ],
   "source": [
    "#13. Tạo dãy số ngẫu nhiên gồm n số\n",
    "import random\n",
    "def random_list(n):\n",
    "    A=[random.randrange(0,n+1) for i in range(n)] \n",
    "    A.sort()\n",
    "    return A\n",
    "\n",
    "L = random_list(10)\n",
    "L"
   ]
  },
  {
   "cell_type": "code",
   "execution_count": 40,
   "id": "0604ada9-6bf6-4f6d-8943-ac56d5c8fefa",
   "metadata": {},
   "outputs": [],
   "source": [
    "#14. Tạo dãy số ngẫu nhiên gồm n số sao cho tổng bằng 100\n",
    "import random\n",
    "def sum_to_hundred(n):\n",
    "    values = [0.0, 100.0] + [random.random() for _ in range(n - 1)]\n",
    "    values.sort()\n",
    "    return [values[i+1] - values[i] for i in range(n)]"
   ]
  },
  {
   "cell_type": "code",
   "execution_count": 157,
   "id": "5acc2a5d-5da8-4de2-a553-476dd24c0f94",
   "metadata": {},
   "outputs": [],
   "source": [
    "# Y = O1 + O2.X^2\n",
    "def getAb(x, y):\n",
    "    A = [[1, x[i] * x[i]] for i in range(len(x))]\n",
    "    return A, y"
   ]
  },
  {
   "cell_type": "code",
   "execution_count": 162,
   "id": "5d1bc441-e158-44ba-b73c-6e2832310144",
   "metadata": {},
   "outputs": [
    {
     "data": {
      "text/plain": [
       "[1.0232558139534884, 0.430232558139535]"
      ]
     },
     "execution_count": 162,
     "metadata": {},
     "output_type": "execute_result"
    }
   ],
   "source": [
    "def data_fitting(A, b):\n",
    "    # O = (A^T.A)^-1.A^T.y\n",
    "    \n",
    "    AT = mt_chuyenvi(A)\n",
    "    \n",
    "    tmp1 = inverse(tich_mt(AT, A))\n",
    "    tmp2 = nhan_mt_vt(AT, b)\n",
    "    kq = nhan_mt_vt(tmp1, tmp2)\n",
    "        \n",
    "    return kq\n",
    "\n",
    "x = [1, 2, 3, 4]\n",
    "y = [2, 2, 5, 8]\n",
    "\n",
    "A, b = getAb(x, y)\n",
    "\n",
    "X = data_fitting(A, b)\n",
    "X"
   ]
  },
  {
   "cell_type": "code",
   "execution_count": 161,
   "id": "20631cfc-acb8-4ea1-85b2-c996520b3f20",
   "metadata": {},
   "outputs": [
    {
     "name": "stdout",
     "output_type": "stream",
     "text": [
      "[32.05, 39.20000000000001, 28.75]\n"
     ]
    }
   ],
   "source": [
    "def markov(P, X, n):\n",
    "    Pn = luythua_mt(P, n)\n",
    "    kq = nhan_mt_vt(Pn, X)\n",
    "    return kq\n",
    "\n",
    "P = [[0.7, 0.1, 0.2],\n",
    "   [0.2, 0.8, 0.2],\n",
    "   [0.1, 0.1, 0.6]]\n",
    "\n",
    "X = [25, 20, 55]\n",
    "\n",
    "print(markov(P, X, 2))"
   ]
  },
  {
   "cell_type": "code",
   "execution_count": 167,
   "id": "fd4e64e0-df24-401d-81d2-3814ea2944b9",
   "metadata": {},
   "outputs": [
    {
     "name": "stdout",
     "output_type": "stream",
     "text": [
      "1.0\n",
      "0.0\n",
      "2.302585092994046\n"
     ]
    }
   ],
   "source": [
    "# Calculate the natural log in Python with math.log\n",
    "import math\n",
    "print(math.log(math.e))\n",
    "print(math.log(1))\n",
    "print(math.log(10))"
   ]
  },
  {
   "cell_type": "code",
   "execution_count": null,
   "id": "73df3828-6480-4fa9-b1e0-d1d0a8574df0",
   "metadata": {},
   "outputs": [],
   "source": []
  }
 ],
 "metadata": {
  "kernelspec": {
   "display_name": "Python 3 (ipykernel)",
   "language": "python",
   "name": "python3"
  },
  "language_info": {
   "codemirror_mode": {
    "name": "ipython",
    "version": 3
   },
   "file_extension": ".py",
   "mimetype": "text/x-python",
   "name": "python",
   "nbconvert_exporter": "python",
   "pygments_lexer": "ipython3",
   "version": "3.10.4"
  }
 },
 "nbformat": 4,
 "nbformat_minor": 5
}
